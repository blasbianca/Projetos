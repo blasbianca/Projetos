{
  "nbformat": 4,
  "nbformat_minor": 0,
  "metadata": {
    "colab": {
      "provenance": [],
      "authorship_tag": "ABX9TyOSkpGj6WrSUsZdxn54bDRj",
      "include_colab_link": true
    },
    "kernelspec": {
      "name": "python3",
      "display_name": "Python 3"
    },
    "language_info": {
      "name": "python"
    }
  },
  "cells": [
    {
      "cell_type": "markdown",
      "metadata": {
        "id": "view-in-github",
        "colab_type": "text"
      },
      "source": [
        "<a href=\"https://colab.research.google.com/github/blasbianca/Projetos/blob/main/calculadora.ipynb\" target=\"_parent\"><img src=\"https://colab.research.google.com/assets/colab-badge.svg\" alt=\"Open In Colab\"/></a>"
      ]
    },
    {
      "cell_type": "code",
      "execution_count": null,
      "metadata": {
        "id": "vuFODLqr8xvu"
      },
      "outputs": [],
      "source": [
        "\"\"\"Faça uma função calculadora de dois números com três parâmetros: os dois primeiros serão os números da operação e o terceiro será a entrada que definirá a operação a ser executada. Considera a seguinte definição:\n",
        "1. Soma\n",
        "2. Subtração\n",
        "3. Multiplicação\n",
        "4. Divisão\n",
        "\n",
        "Caso seja inserido um número de operação que não exista, o resultado deverá ser 0.\"\"\"\n",
        "\n",
        "print(\"1. Soma 2. Subtração 3. Multiplicação 4. Divisão\")\n",
        "operacao = int(input(\"Qual operação será realizada? (digite o número): \"))\n",
        "if(operacao<5):\n",
        "  num1 = float(input(\"Digite o primeiro número: \"))\n",
        "  num2 = float(input(\"Digite o segundo número: \"))\n",
        "\n",
        "  def calculadora(num1,num2,operacao):\n",
        "\n",
        "    if(operacao == 1):\n",
        "      print(\"Realizando soma\")\n",
        "      res = num1+num2\n",
        "    elif(operacao == 2):\n",
        "      print(\"Realizando subtração\")\n",
        "      res = num1-num2\n",
        "    elif(operacao == 3):\n",
        "      print(\"Realizando multiplicação\")\n",
        "      res = num1*num2\n",
        "    elif(operacao == 4):\n",
        "      print(\"Realizando divisão\")\n",
        "      res = num1/num2\n",
        "    return (res)\n",
        "\n",
        "  resultado = calculadora(num1,num2,operacao)\n",
        "  print(resultado)\n",
        "else:\n",
        "  resultado = 0\n",
        "  print(resultado)\n",
        "\n",
        "\n"
      ]
    }
  ]
}