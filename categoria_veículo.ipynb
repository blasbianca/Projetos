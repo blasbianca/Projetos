{
  "nbformat": 4,
  "nbformat_minor": 0,
  "metadata": {
    "colab": {
      "provenance": []
    },
    "kernelspec": {
      "name": "python3",
      "display_name": "Python 3"
    },
    "language_info": {
      "name": "python"
    }
  },
  "cells": [
    {
      "cell_type": "code",
      "execution_count": 19,
      "metadata": {
        "colab": {
          "base_uri": "https://localhost:8080/"
        },
        "id": "2sfd4hdqWxNJ",
        "outputId": "6e7546ad-0209-4890-8fa2-479ef0ab87da"
      },
      "outputs": [
        {
          "output_type": "stream",
          "name": "stdout",
          "text": [
            "qual a quantidade de rodas?: 10\n",
            "qual a quantidade máxima de pessoas no véiculo?: 2\n",
            "qual o peso do veículo?: 7000\n",
            "veículo categoria E\n"
          ]
        }
      ],
      "source": [
        "\"\"\"Desenvolva um código que utilize as seguintes características de um veículo:\n",
        "- Quantidade de rodas;\n",
        "- Peso bruto em quilogramas;\n",
        "- Quantidade de pessoas no veículo.\n",
        "\n",
        "Com essas informações, o programa mostrará qual é a melhor categoria de habilitação para o veículo informado a partir das condições:\n",
        "A: Veículos com duas ou três rodas;\n",
        "B: Veículos com quatro rodas, que acomodam até oito pessoas e seu peso é de até 3500 kg;\n",
        "C: Veículos com quatro rodas ou mais e com peso entre 3500 e 6000 kg;\n",
        "D: Veículos com quatro rodas ou mais e que acomodam mais de oito pessoas;\n",
        "E: Veículos com quatro rodas ou mais e com mais de 6000 kg.\"\"\"\n",
        "\n",
        "\n",
        "qtd_rodas = 0,0\n",
        "peso = 0,0\n",
        "qtd_pess = 0,0\n",
        "\n",
        "qtd_rodas = float(input(\"qual a quantidade de rodas?: \"))\n",
        "if qtd_rodas<=3:\n",
        "  print(\"veículo categoria A\")\n",
        "\n",
        "else:\n",
        "  qtd_pess = float(input(\"qual a quantidade máxima de pessoas no véiculo?: \"))\n",
        "\n",
        "  if (qtd_pess>8):\n",
        "    print(\"veículo categoria D\")\n",
        "  else:\n",
        "    peso = float(input(\"qual o peso do veículo?: \"))\n",
        "\n",
        "    if (peso<=3500) and (qtd_pess<=8):\n",
        "      print(\"veículo categoria B\")\n",
        "    elif (peso>3500) and (peso<6000):\n",
        "      print(\"veículo categoria C\")\n",
        "\n",
        "    else:\n",
        "      print(\"veículo categoria E\")"
      ]
    }
  ]
}