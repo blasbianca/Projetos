{
  "nbformat": 4,
  "nbformat_minor": 0,
  "metadata": {
    "colab": {
      "provenance": [],
      "authorship_tag": "ABX9TyPNi72CJhf9FzkFswUsTk1l",
      "include_colab_link": true
    },
    "kernelspec": {
      "name": "python3",
      "display_name": "Python 3"
    },
    "language_info": {
      "name": "python"
    }
  },
  "cells": [
    {
      "cell_type": "markdown",
      "metadata": {
        "id": "view-in-github",
        "colab_type": "text"
      },
      "source": [
        "<a href=\"https://colab.research.google.com/github/blasbianca/Projetos/blob/main/Untitled4.ipynb\" target=\"_parent\"><img src=\"https://colab.research.google.com/assets/colab-badge.svg\" alt=\"Open In Colab\"/></a>"
      ]
    },
    {
      "cell_type": "markdown",
      "source": [
        "Faça uma função calculadora que os números e as operações serão feitas pelo usuário. O código deve ficar rodando infinitamente até que o usuário escolha a opção de sair. No início, o programa mostrará a seguinte lista de operações:\n",
        "\n",
        "1: Soma\n",
        "2: Subtração\n",
        "3: Multiplicação\n",
        "4: Divisão\n",
        "0: Sair\n",
        "\n",
        "Digite o número para a operação correspondente e caso o usuário introduza qualquer outro, o sistema deve mostrar a mensagem “Essa opção não existe” e voltar ao menu de opções.\n",
        "\n",
        "Após a seleção, o sistema deve pedir para o usuário inserir o primeiro e segundo valor, um de cada. Depois precisa executar a operação e mostrar o resultado na tela. Quando o usuário escolher a opção “Sair”, o sistema irá parar.\n",
        "\n",
        "É necessário que o sistema mostre as opções sempre que finalizar uma operação e mostrar o resultado."
      ],
      "metadata": {
        "id": "qAxqBqpsHaMF"
      }
    },
    {
      "cell_type": "code",
      "execution_count": null,
      "metadata": {
        "colab": {
          "base_uri": "https://localhost:8080/"
        },
        "id": "3zXQDq04HE3f",
        "outputId": "f29346d6-d14f-4169-cfb4-f42d95080850"
      },
      "outputs": [
        {
          "output_type": "stream",
          "name": "stdout",
          "text": [
            "1. Soma\n",
            "2. Subtração\n",
            "3. Multiplicação\n",
            "4. Divisão\n",
            "0. Sair\n",
            " \n",
            "Qual operação será realizada? (digite o número): 7\n",
            " \n",
            "Essa opção não existe\n",
            " \n",
            "1. Soma\n",
            "2. Subtração\n",
            "3. Multiplicação\n",
            "4. Divisão\n",
            "0. Sair\n",
            " \n"
          ]
        }
      ],
      "source": [
        "continuar = True\n",
        "while (continuar == True):\n",
        "  print(\"1. Soma\")\n",
        "  print(\"2. Subtração\")\n",
        "  print(\"3. Multiplicação\")\n",
        "  print(\"4. Divisão\")\n",
        "  print(\"0. Sair\")\n",
        "  print(\" \")\n",
        "\n",
        "  operacao = int(input(\"Qual operação será realizada? (digite o número): \"))\n",
        "  if(operacao<5) and (operacao != 0):\n",
        "    num1 = float(input(\"Digite o primeiro número: \"))\n",
        "    num2 = float(input(\"Digite o segundo número: \"))\n",
        "\n",
        "    def calculadora(num1,num2,operacao):\n",
        "\n",
        "      if(operacao == 1):\n",
        "        print(\" \")\n",
        "        print(\"Realizando soma\")\n",
        "        res = num1+num2\n",
        "      elif(operacao == 2):\n",
        "        print(\" \")\n",
        "        print(\"Realizando subtração\")\n",
        "        res = num1-num2\n",
        "      elif(operacao == 3):\n",
        "        print(\" \")\n",
        "        print(\"Realizando multiplicação\")\n",
        "        res = num1*num2\n",
        "      elif(operacao == 4):\n",
        "        print(\" \")\n",
        "        print(\"Realizando divisão\")\n",
        "        res = num1/num2\n",
        "      return (res)\n",
        "\n",
        "    resultado = calculadora(num1,num2,operacao)\n",
        "    print(\"Resultado = \", resultado)\n",
        "    print(\" \")\n",
        "\n",
        "  elif(operacao == 0):\n",
        "    print(\"SAINDO\")\n",
        "    continuar = False\n",
        "\n",
        "  else:\n",
        "    print(\" \")\n",
        "    print(\"Essa opção não existe\")\n",
        "    print(\" \")"
      ]
    }
  ]
}