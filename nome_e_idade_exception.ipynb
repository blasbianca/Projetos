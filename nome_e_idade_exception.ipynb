{
  "nbformat": 4,
  "nbformat_minor": 0,
  "metadata": {
    "colab": {
      "provenance": [],
      "authorship_tag": "ABX9TyNKstVcjee5DGgNtVy2Ik4y",
      "include_colab_link": true
    },
    "kernelspec": {
      "name": "python3",
      "display_name": "Python 3"
    },
    "language_info": {
      "name": "python"
    }
  },
  "cells": [
    {
      "cell_type": "markdown",
      "metadata": {
        "id": "view-in-github",
        "colab_type": "text"
      },
      "source": [
        "<a href=\"https://colab.research.google.com/github/blasbianca/Projetos/blob/main/nome_e_idade_exception.ipynb\" target=\"_parent\"><img src=\"https://colab.research.google.com/assets/colab-badge.svg\" alt=\"Open In Colab\"/></a>"
      ]
    },
    {
      "cell_type": "markdown",
      "source": [
        "Desenvolva um programa que recebe do usuário nome completo e ano de nascimento que seja entre 1922 e 2021.\n",
        "A partir dessas informações, o sistema mostrará o nome do usuário e a idade que completou, ou completará, no ano atual (2022).\n",
        "\n",
        "Caso o usuário não digite um número ou apareça um inválido no campo do ano, o sistema informará o erro e continuará perguntando até que um valor correto seja preenchido."
      ],
      "metadata": {
        "id": "3wtZTk0k3RRQ"
      }
    },
    {
      "cell_type": "code",
      "execution_count": null,
      "metadata": {
        "id": "jyAjcmZJ3B3x"
      },
      "outputs": [],
      "source": [
        "while True:\n",
        " nome = input(\"Qual seu nome? \")\n",
        " try:\n",
        "   if nome.isalpha():\n",
        "    ano = int(input(\"qual seu ano de nascimento? \"))\n",
        "    if ano > 1921 and ano < 2022:\n",
        "      idade = 2023-ano\n",
        "      print(\"seu nome é: \", nome)\n",
        "      print(\"sua idade é: \", idade)\n",
        "      break\n",
        "    else:\n",
        "       print(\"digite um ano entre 1922 e 2022\")\n",
        "   else:\n",
        "     print(\"entrada inválida\")\n",
        " except:\n",
        "    print(\"digite um ano válido\")\n"
      ]
    }
  ]
}